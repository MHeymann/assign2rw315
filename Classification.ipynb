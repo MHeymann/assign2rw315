{
 "cells": [
  {
   "cell_type": "markdown",
   "metadata": {},
   "source": [
    "# Classification\n",
    "\n",
    "In this assignment we explore classification, one of the fundamental tasks of machine learning.\n",
    "\n",
    "In the supervised learning scenario we consider, we are given a training set of observations $x_i,\\;\\; i = 1,\\ldots,n$ and each observation $x_i$ is associated with a label $y_i$.  For classification, this label assigns the observation to 1 of $k$ classes. In Python, we will typically use the values $0,\\ldots,k-1$ for the labels.\n",
    "\n",
    "We'll again use the wine data set, reduced to two dimensions using LDA for easy display of the results.\n",
    "\n",
    "The first classifier we consider is the simple `nearest centroid` classifier which uses the mean of each class as a prototype for the corresponding class, and then classifies based on the nearest prototype. For  simple problems it works quite well!\n",
    "\n",
    "The logistic regression classifier and its multi-class extension, the softmax classifier, are powerful and widely-used discriminative classification algorithms.  One place they are often found is as the last layer of a deep neural network classifier. After working through the nearest centroid classifier example in this notebook, you will train and evaluate the logistic regression/softmax classifier provided by scikit-learn, and try to interpret the models that it fits.  For more on this classifier, see http://scikit-learn.org/stable/modules/generated/sklearn.linear_model.LogisticRegression.html"
   ]
  },
  {
   "cell_type": "code",
   "execution_count": 15,
   "metadata": {
    "collapsed": false
   },
   "outputs": [
    {
     "name": "stdout",
     "output_type": "stream",
     "text": [
      "The autoreload extension is already loaded. To reload it, use:\n",
      "  %reload_ext autoreload\n"
     ]
    }
   ],
   "source": [
    "%matplotlib inline\n",
    "%load_ext autoreload\n",
    "%autoreload 2"
   ]
  },
  {
   "cell_type": "code",
   "execution_count": 16,
   "metadata": {
    "collapsed": false
   },
   "outputs": [],
   "source": [
    "# Import different modules for using with the notebook\n",
    "import numpy as np\n",
    "import matplotlib.pyplot as plt \n",
    "from IPython.display import HTML\n",
    "from IPython.display import display\n",
    "from IPython.display import Image\n",
    "\n",
    "from sklearn.discriminant_analysis import LinearDiscriminantAnalysis as LDA\n",
    "from sklearn.linear_model import LogisticRegression as logis\n",
    "from sklearn.metrics import confusion_matrix\n",
    "\n",
    "from utils import nearest_feature as nf"
   ]
  },
  {
   "cell_type": "markdown",
   "metadata": {},
   "source": [
    "### Load the wine data, first the training set, then the test set."
   ]
  },
  {
   "cell_type": "code",
   "execution_count": 17,
   "metadata": {
    "collapsed": false
   },
   "outputs": [],
   "source": [
    "wine_train = np.loadtxt('./data/wine_train.txt',delimiter = ',')\n",
    "wine_train_labels = wine_train[:,-1]\n",
    "wine_train_classes = list(set(wine_train_labels))\n",
    "wine_train_classes = np.array(wine_train_classes,dtype=int)\n",
    "wine_train_labels = np.array(wine_train_labels,dtype = int)\n",
    "wine_train = wine_train[:,:-1]\n",
    "\n",
    "wine_test = np.loadtxt('./data/wine_test.txt',delimiter = ',')\n",
    "wine_test_labels = wine_test[:,-1]\n",
    "wine_test_classes = list(set(wine_test_labels))\n",
    "wine_test_classes = np.array(wine_test_classes,dtype=int)\n",
    "wine_test_labels = np.array(wine_test_labels,dtype = int)\n",
    "wine_test = wine_test[:,:-1]\n"
   ]
  },
  {
   "cell_type": "markdown",
   "metadata": {},
   "source": [
    "### LDA\n",
    "\n",
    "Fit an LDA model to the training data, and transform the test data onto 2 LDA components\n"
   ]
  },
  {
   "cell_type": "code",
   "execution_count": 18,
   "metadata": {
    "collapsed": true
   },
   "outputs": [],
   "source": [
    "lda = LDA(n_components=2)\n",
    "lda.fit(wine_train, wine_train_labels)\n",
    "wine_train_lda = lda.transform(wine_train)\n",
    "wine_test_lda = lda.transform(wine_test)"
   ]
  },
  {
   "cell_type": "markdown",
   "metadata": {},
   "source": [
    "### Plot the training and test sets"
   ]
  },
  {
   "cell_type": "code",
   "execution_count": 19,
   "metadata": {
    "collapsed": false
   },
   "outputs": [
    {
     "data": {
      "image/png": "[encoded data removed]",
      "text/plain": [
       "<matplotlib.figure.Figure at 0x7f4953acef28>"
      ]
     },
     "metadata": {},
     "output_type": "display_data"
    }
   ],
   "source": [
    "col = ['r*','yo','k+']\n",
    "means = np.zeros((2,3))\n",
    "\n",
    "for cl in wine_train_classes:\n",
    "    cl_labels = np.array([wine_test_labels==cl]).flatten()\n",
    "    wine_cl = wine_test_lda[cl_labels,:]\n",
    "    \n",
    "    means[:,int(cl-1)] = np.mean(wine_cl,axis=0)\n",
    "   \n",
    "    plt.plot(wine_cl[:,0],wine_cl[:,1],col[int(cl-1)])\n",
    "    plt.plot(means[0,int(cl-1)],means[1,int(cl-1)],col[int(cl-1)],markersize=25)\n",
    "means = means.T\n",
    "plt.title('Transformation of test data, 2 LDA components', fontsize = 25)\n",
    "plt.show()"
   ]
  },
  {
   "cell_type": "markdown",
   "metadata": {},
   "source": [
    "# Confusion Matrix\n",
    "\n",
    "The results of a classifier are often presented using a confusion matrix. The confusion matrix takes as input the true (provided) labels and the classifier's predicted labels for the observations. It then displays how the predicted labels were assigned.\n",
    "\n",
    "scikit-learn provides us with a method to obtain a confusion matrix. But the results can also be displayed as an image - this is particularly helpful when there are many classes.  To do this, we use the function below, which is a slight adaptation of a function on the scikit-learn documentation website.\n"
   ]
  },
  {
   "cell_type": "code",
   "execution_count": 20,
   "metadata": {
    "collapsed": false
   },
   "outputs": [],
   "source": [
    "def plot_confusion_matrix(cm, title='Confusion matrix', target_names = np.array(['setosa', 'versicolor', 'virginica']), cmap=plt.cm.Blues):\n",
    "    plt.imshow(cm, interpolation='nearest', cmap=cmap)\n",
    "    plt.title(title)\n",
    "    plt.colorbar()\n",
    "    tick_marks = np.arange(len(target_names))\n",
    "    plt.xticks(tick_marks, target_names, rotation=45)\n",
    "    plt.yticks(tick_marks, target_names)\n",
    "    plt.tight_layout()\n",
    "    plt.ylabel('True label')\n",
    "    plt.xlabel('Predicted label')"
   ]
  },
  {
   "cell_type": "markdown",
   "metadata": {},
   "source": [
    "### Classify, using nearest centroid classifier\n",
    "\n",
    "With all the tools in place, we use the nearest centroid classifier to classify the observations of the test set. It does really well!"
   ]
  },
  {
   "cell_type": "code",
   "execution_count": 21,
   "metadata": {
    "collapsed": false
   },
   "outputs": [
    {
     "name": "stdout",
     "output_type": "stream",
     "text": [
      "[[24  0  0]\n",
      " [ 2 26  0]\n",
      " [ 0  0 19]]\n"
     ]
    },
    {
     "data": {
      "image/png": "[encoded data removed]",
      "text/plain": [
       "<matplotlib.figure.Figure at 0x7f499107b550>"
      ]
     },
     "metadata": {},
     "output_type": "display_data"
    }
   ],
   "source": [
    "test_pr_labels=nf(wine_test_lda,means)\n",
    "cm = confusion_matrix(wine_test_labels,test_pr_labels+1)\n",
    "print(cm)\n",
    "plot_confusion_matrix(cm,target_names=np.array(['0','1','2'],dtype='<U10'))"
   ]
  },
  {
   "cell_type": "markdown",
   "metadata": {},
   "source": [
    "# Decision boundaries\n",
    "\n",
    "We can now plot the decision boundaries for nearest centroid classification, using the   [scikit-learn example](http://scikit-learn.org/stable/auto_examples/linear_model/plot_iris_logistic.html)"
   ]
  },
  {
   "cell_type": "code",
   "execution_count": 22,
   "metadata": {
    "collapsed": false
   },
   "outputs": [
    {
     "data": {
      "image/png": "[encoded data removed]",
      "text/plain": [
       "<matplotlib.figure.Figure at 0x7f4955d95d30>"
      ]
     },
     "metadata": {},
     "output_type": "display_data"
    }
   ],
   "source": [
    "h = .02  # step size in the mesh\n",
    "X = wine_test_lda\n",
    "Y = wine_test_labels\n",
    "# Plot the decision boundary. For that, we will assign a color to each\n",
    "# point in the mesh [x_min, m_max]x[y_min, y_max].\n",
    "x_min, x_max = X[:, 0].min() - .5, X[:, 0].max() + .5\n",
    "y_min, y_max = X[:, 1].min() - .5, X[:, 1].max() + .5\n",
    "xx, yy = np.meshgrid(np.arange(x_min, x_max, h), np.arange(y_min, y_max, h))\n",
    "\n",
    "Z = nf(np.c_[xx.ravel(), yy.ravel()],means)\n",
    "\n",
    "# Put the result into a color plot\n",
    "Z = Z.reshape(xx.shape)\n",
    "plt.figure(1, figsize=(4, 3))\n",
    "plt.pcolormesh(xx, yy, Z, cmap=plt.cm.Paired)\n",
    "\n",
    "# Plot also the training points\n",
    "plt.scatter(X[:, 0], X[:, 1], c=Y, edgecolors='k', cmap=plt.cm.Paired)\n",
    "\n",
    "plt.xlim(xx.min(), xx.max())\n",
    "plt.ylim(yy.min(), yy.max())\n",
    "plt.xticks(())\n",
    "plt.yticks(())\n",
    "plt.show()"
   ]
  }
 ],
 "metadata": {
  "kernelspec": {
   "display_name": "Python 3",
   "language": "python",
   "name": "python3"
  },
  "language_info": {
   "codemirror_mode": {
    "name": "ipython",
    "version": 3
   },
   "file_extension": ".py",
   "mimetype": "text/x-python",
   "name": "python",
   "nbconvert_exporter": "python",
   "pygments_lexer": "ipython3",
   "version": "3.5.2"
  },
  "widgets": {
   "state": {},
   "version": "1.1.2"
  }
 },
 "nbformat": 4,
 "nbformat_minor": 0
}
